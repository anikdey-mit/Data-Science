{
 "cells": [
  {
   "cell_type": "code",
   "execution_count": null,
   "metadata": {},
   "outputs": [],
   "source": [
    "library(MASS)\n",
    "library(testthat)\n",
    "library(tidyverse)\n",
    "library(gclus)\n",
    "library(GGally)\n",
    "\n",
    "\n",
    "# Plot size deppening on your screen resolution to 4 x 3\n",
    "options(repr.plot.width=6, repr.plot.height=4)"
   ]
  },
  {
   "cell_type": "markdown",
   "metadata": {},
   "source": [
    "# Assignment 1 "
   ]
  },
  {
   "cell_type": "markdown",
   "metadata": {},
   "source": [
    "For this assignment, you have to analyse two different data sets. For each plot, add appropriate titles and labels, do not leave the default one. Your submission should run without errors on jupyterhub when you execute: `Kernel` -> `Restart & Run All`. For each data-set and task, assign the resulting plot or data frame to the specified variable. e.g. if it says `p_3 <- ... ` this means that the plot has to be assigned to variable `p_3`.\n"
   ]
  },
  {
   "cell_type": "markdown",
   "metadata": {},
   "source": [
    "## Dataset01 (3.5 points)"
   ]
  },
  {
   "cell_type": "markdown",
   "metadata": {},
   "source": [
    "The dataset `birthwt` is in the package `MASS`, and will be available when you load the package. Have a quick look at the meaning of the variables in the data set `birthwt`.We will use `smoke` and  `bwt`.\n",
    "1.\tFirst create a new facotr variable called `smoke` and suplly labels for the levels of the variable smoke (Note that 0 means `nonsmoker`, 1 means `smoker`.)\n",
    "2. Create a new data frame called `ds_a.df` with the factor `smoke` and the variable `bwt` (Hint the name should just be `bwt`)\n",
    "2.\tCreate a boxplot for the birthweights of the two groups: smokers and non-smokers. \n",
    "3.\tAlso provide a bar chart showing the number of smokers and non-smokers\n",
    "For both graphs, include a heading and appropriate axis labels. \n"
   ]
  },
  {
   "cell_type": "markdown",
   "metadata": {},
   "source": [
    "From the Help file:  \n",
    "Risk Factors Associated with Low Infant Birth Weight\n",
    "Description\n",
    "\n",
    "The birthwt data frame has 189 rows and 10 columns. The data were collected at Baystate Medical Center, Springfield, Mass during 1986. "
   ]
  },
  {
   "cell_type": "code",
   "execution_count": null,
   "metadata": {
    "deletable": false,
    "nbgrader": {
     "checksum": "4f42416c10b2c578c7a45633ac898d27",
     "grade": false,
     "grade_id": "cell-d5fd916a1d8db3d8",
     "locked": false,
     "schema_version": 1,
     "solution": true
    },
    "scrolled": true
   },
   "outputs": [],
   "source": [
    "## Dataset01 - Task 1 code here\n",
    "\n",
    "# your code here\n",
    "\n",
    "smoke <- factor(birthwt$smoke,levels = c(0,1),labels=c(\"nonsmoker\",\"smoker\"))\n",
    "head(smoke)"
   ]
  },
  {
   "cell_type": "code",
   "execution_count": null,
   "metadata": {
    "deletable": false,
    "editable": false,
    "nbgrader": {
     "checksum": "45d6dbc5878e3be82b35952af692fea5",
     "grade": true,
     "grade_id": "cell-df1775c43264ee73",
     "locked": true,
     "points": 0.5,
     "schema_version": 1,
     "solution": false
    }
   },
   "outputs": [],
   "source": [
    "# this is the first public test to check that you assigned the correct variable, the rest is hidden\n",
    "test_that(\"Creating a factor variable\", {\n",
    "      expect_is(smoke,\"factor\")\n",
    "})"
   ]
  },
  {
   "cell_type": "code",
   "execution_count": null,
   "metadata": {
    "deletable": false,
    "nbgrader": {
     "checksum": "49caf71563e2937e75d3938958d87e5c",
     "grade": false,
     "grade_id": "cell-4111e34a41b1ef8e",
     "locked": false,
     "schema_version": 1,
     "solution": true
    },
    "scrolled": true
   },
   "outputs": [],
   "source": [
    "## Dataset01 - Task 2 code here\n",
    "\n",
    "# your code here\n",
    "\n",
    "birthwt %>%\n",
    "select(smoke,bwt) -> ds_a.df\n",
    "ds_a.df"
   ]
  },
  {
   "cell_type": "code",
   "execution_count": null,
   "metadata": {
    "deletable": false,
    "editable": false,
    "nbgrader": {
     "checksum": "768bd7b332d2976fe8de125799adff28",
     "grade": true,
     "grade_id": "cell-4715ab6a62df044d",
     "locked": true,
     "points": 0.5,
     "schema_version": 1,
     "solution": false
    }
   },
   "outputs": [],
   "source": [
    "# This is the first public test to check that you assigned the correct variable, the rest is hidden\n",
    "test_that(\"Creating a data frame\", {\n",
    "      expect_is(ds_a.df,\"data.frame\")\n",
    "})"
   ]
  },
  {
   "cell_type": "code",
   "execution_count": null,
   "metadata": {
    "deletable": false,
    "nbgrader": {
     "checksum": "e9459c53df55c12a63d9b216e45feffe",
     "grade": false,
     "grade_id": "cell-077454365efad56d",
     "locked": false,
     "schema_version": 1,
     "solution": true
    }
   },
   "outputs": [],
   "source": [
    "## Dataset01 - Task 3 code here\n",
    "# p_3 <- .....\n",
    "# p_3\n",
    "\n",
    "# your code here\n",
    "\n",
    "p_3 <- ds_a.df %>%\n",
    "mutate (smoke = factor(birthwt$smoke,levels = c(0,1),labels=c(\"nonsmoker\",\"smoker\"))) %>%\n",
    "ggplot(data=.,\n",
    "           aes(x=smoke,\n",
    "              y=bwt)) + \n",
    "geom_boxplot()+ggtitle(\"Birthweights of Smokers and Non-Smokers\")\n",
    "p_3"
   ]
  },
  {
   "cell_type": "code",
   "execution_count": null,
   "metadata": {
    "deletable": false,
    "editable": false,
    "nbgrader": {
     "checksum": "5088cf0f693c28de52d6010177b2d569",
     "grade": true,
     "grade_id": "cell-f9b632314d3a6044",
     "locked": true,
     "points": 0.5,
     "schema_version": 1,
     "solution": false
    }
   },
   "outputs": [],
   "source": [
    "# This is the first public test to check that you assigned the correct variable, the rest is hidden\n",
    "test_that(\"Boxplot\", {\n",
    "      expect_is(p_3,\"ggplot\")\n",
    "})"
   ]
  },
  {
   "cell_type": "code",
   "execution_count": null,
   "metadata": {
    "deletable": false,
    "editable": false,
    "nbgrader": {
     "checksum": "930bdb889a433948c6667e06989a90ac",
     "grade": true,
     "grade_id": "cell-f7c99e71ed4ffdda",
     "locked": true,
     "points": 0.5,
     "schema_version": 1,
     "solution": false
    }
   },
   "outputs": [],
   "source": []
  },
  {
   "cell_type": "code",
   "execution_count": null,
   "metadata": {
    "deletable": false,
    "editable": false,
    "nbgrader": {
     "checksum": "42ecd7905038e5073b7be068b1fa08bb",
     "grade": true,
     "grade_id": "cell-3d8ff42de7fd4a14",
     "locked": true,
     "points": 0.1,
     "schema_version": 1,
     "solution": false
    }
   },
   "outputs": [],
   "source": []
  },
  {
   "cell_type": "code",
   "execution_count": null,
   "metadata": {
    "deletable": false,
    "editable": false,
    "nbgrader": {
     "checksum": "881b6e4bd366b80fad478593e217930e",
     "grade": true,
     "grade_id": "cell-d4b29afa41141f16",
     "locked": true,
     "points": 0.1,
     "schema_version": 1,
     "solution": false
    }
   },
   "outputs": [],
   "source": []
  },
  {
   "cell_type": "code",
   "execution_count": null,
   "metadata": {
    "deletable": false,
    "editable": false,
    "nbgrader": {
     "checksum": "bb54533f564589a3d769df0d194b8132",
     "grade": true,
     "grade_id": "cell-13da84c619fa0d28",
     "locked": true,
     "points": 0.1,
     "schema_version": 1,
     "solution": false
    }
   },
   "outputs": [],
   "source": []
  },
  {
   "cell_type": "code",
   "execution_count": null,
   "metadata": {
    "deletable": false,
    "nbgrader": {
     "checksum": "5a6af9967c3451b2343fec27bd112b90",
     "grade": false,
     "grade_id": "cell-e1afe98cfda305c0",
     "locked": false,
     "schema_version": 1,
     "solution": true
    }
   },
   "outputs": [],
   "source": [
    "## Dataset01 - Task 4 code here\n",
    "# p_4 <- .....\n",
    "# p_4\n",
    "# your code here\n",
    "\n",
    "p_4 <- ds_a.df %>%\n",
    "mutate (smoke = factor(birthwt$smoke,levels = c(0,1),labels=c(\"nonsmoker\",\"smoker\"))) %>%\n",
    "    ggplot(data = .,\n",
    "           aes(x = smoke)) + \n",
    "    geom_bar(width=.3) + ggtitle(\"Number of Smokers and Non-Smokers\")\n",
    "p_4"
   ]
  },
  {
   "cell_type": "code",
   "execution_count": null,
   "metadata": {
    "deletable": false,
    "editable": false,
    "nbgrader": {
     "checksum": "e08463ead35638f7931e7aea12045fad",
     "grade": true,
     "grade_id": "cell-3f85f2443b90835b",
     "locked": true,
     "points": 0.5,
     "schema_version": 1,
     "solution": false
    }
   },
   "outputs": [],
   "source": [
    "# This is the first public test to check that you assigned the correct variable, the rest is hidden\n",
    "test_that(\"Bar plot\", {\n",
    "      expect_is(p_4,\"ggplot\")\n",
    "})"
   ]
  },
  {
   "cell_type": "code",
   "execution_count": null,
   "metadata": {
    "deletable": false,
    "editable": false,
    "nbgrader": {
     "checksum": "da486a36286cad78d28b00e0dcb89513",
     "grade": true,
     "grade_id": "cell-d3b4b704e8cb07f3",
     "locked": true,
     "points": 0.5,
     "schema_version": 1,
     "solution": false
    }
   },
   "outputs": [],
   "source": []
  },
  {
   "cell_type": "code",
   "execution_count": null,
   "metadata": {
    "deletable": false,
    "editable": false,
    "nbgrader": {
     "checksum": "07964915bdc527f75b881909c074cad9",
     "grade": true,
     "grade_id": "cell-fe9f61cd45c884d9",
     "locked": true,
     "points": 0.1,
     "schema_version": 1,
     "solution": false
    }
   },
   "outputs": [],
   "source": []
  },
  {
   "cell_type": "code",
   "execution_count": null,
   "metadata": {
    "deletable": false,
    "editable": false,
    "nbgrader": {
     "checksum": "9ad2f14f5bc4cdb874713c1b6975a134",
     "grade": true,
     "grade_id": "cell-aff96b4163cb4d4a",
     "locked": true,
     "points": 0.1,
     "schema_version": 1,
     "solution": false
    }
   },
   "outputs": [],
   "source": []
  },
  {
   "cell_type": "code",
   "execution_count": null,
   "metadata": {},
   "outputs": [],
   "source": []
  },
  {
   "cell_type": "markdown",
   "metadata": {},
   "source": [
    "## Dataset02 (6.5 points)"
   ]
  },
  {
   "cell_type": "markdown",
   "metadata": {},
   "source": [
    "Consider the data set bank in package gclus. In order to find information about this data set, look up the helpfile `?bank`\n",
    "You will see that it has a variable Status, and six dimension variables. The dataset must be loaded: with the command `data(bank)`\n",
    "1. Load the data and make the column `Status` into a factor with `0 = Genuine` and  `1 = Counterfeit`. (Note: modify the data frame)\n",
    "2. Create a boxplot for each dimension (`Length`, `Left`,`Right`,`Bottom`, `Top` and\t`Diagonal`). Based on the boxplots, choose two variables that you think likely to give the clearest differentiation between forged and genuine notes and put the graphs object named `p_var1` and `p_var2` in the designated cell.\n",
    "3. Create a scatter plot of the choosen dimension and colour them. Use the function `geom_segment` to add a seperating line between the coloured dots. Note: This is a new function, the goal of this excercise is that you make yourself familiar with how to use the help function.\n",
    "4. Using a grammar of graphics command, create a scatterplot matrix in which the points representing the forgeries and the genuine notes have different colours. Also had a title to your plot.   \n",
    "  \n",
    "5. Using a grammar of graphics command, create a scatterplot matrix for the combined sample of 200 notes, including the overall distribution for each variable provided along the diagonal, and correlations in the upper panel. Also had a title to your plot. \n",
    "\n",
    "6. Use ggcorrplot to create an appropriate correlation plot for the combined sample. Also had a title to your plot. Don't forgett to include the library installation and loading comands. \n",
    "\n"
   ]
  },
  {
   "cell_type": "markdown",
   "metadata": {},
   "source": [
    "From the Help file:  \n",
    "Swiss bank notes data\n",
    "Description\n",
    "\n",
    "Data from \"Multivariate Statistics A practical approach\", by Bernhard Flury and Hans Riedwyl, Chapman and Hall, 1988, Tables 1.1 and 1.2 pp. 5-8. Six measurements made on 100 genuine Swiss banknotes and 100 counterfeit ones."
   ]
  },
  {
   "cell_type": "code",
   "execution_count": null,
   "metadata": {
    "deletable": false,
    "nbgrader": {
     "checksum": "c2a69ea5678dd646d9e651c07d822f15",
     "grade": false,
     "grade_id": "cell-5837da8f4d324086",
     "locked": false,
     "schema_version": 1,
     "solution": true
    },
    "scrolled": true
   },
   "outputs": [],
   "source": [
    "## Dataset02 - Task 1 code here\n",
    "# your code here\n",
    "data(bank)\n",
    "Status <- factor(bank$Status,levels = c(0,1),labels=c(\"Genuine\",\"Counterfeit\"))\n",
    "head(Status)"
   ]
  },
  {
   "cell_type": "code",
   "execution_count": null,
   "metadata": {
    "deletable": false,
    "editable": false,
    "nbgrader": {
     "checksum": "b8fbc3b8eff46a43312257f0c3a3092d",
     "grade": true,
     "grade_id": "cell-4e5d8eb59f02faca",
     "locked": true,
     "points": 0.5,
     "schema_version": 1,
     "solution": false
    }
   },
   "outputs": [],
   "source": [
    "# this is the first public test to check that you assigned the correct variable, the rest is hidden\n",
    "test_that(\"Creating a factor variable within a existing data frame\", {\n",
    "      expect_is(bank,\"data.frame\")\n",
    "})"
   ]
  },
  {
   "cell_type": "code",
   "execution_count": null,
   "metadata": {},
   "outputs": [],
   "source": []
  },
  {
   "cell_type": "code",
   "execution_count": null,
   "metadata": {
    "scrolled": true
   },
   "outputs": [],
   "source": [
    "## Dataset02 - Task 2 goes here\n",
    "\n",
    "plength <- bank %>%\n",
    "mutate (status = factor(bank$Status,levels = c(0,1),labels=c(\"Genuine\",\"Counterfeit\"))) %>%\n",
    "ggplot(data=.,aes(x=status,y=Length)) + geom_boxplot()\n",
    "plength\n",
    "\n",
    "pleft <- bank %>%\n",
    "mutate (status = factor(bank$Status,levels = c(0,1),labels=c(\"Genuine\",\"Counterfeit\"))) %>%\n",
    "ggplot(data=.,aes(x=status,y=Left)) + geom_boxplot()\n",
    "pleft\n",
    "\n",
    "pright <- bank %>%\n",
    "mutate (status = factor(bank$Status,levels = c(0,1),labels=c(\"Genuine\",\"Counterfeit\"))) %>%\n",
    "ggplot(data=.,aes(x=status,y=Right)) + geom_boxplot()\n",
    "pright\n",
    "\n",
    "pbottom <- bank %>%\n",
    "mutate (status = factor(bank$Status,levels = c(0,1),labels=c(\"Genuine\",\"Counterfeit\"))) %>%\n",
    "ggplot(data=.,aes(x=status,y=Bottom)) + geom_boxplot()\n",
    "pbottom\n",
    "\n",
    "ptop <- bank %>%\n",
    "mutate (status = factor(bank$Status,levels = c(0,1),labels=c(\"Genuine\",\"Counterfeit\"))) %>%\n",
    "ggplot(data=.,aes(x=status,y=Top)) + geom_boxplot()\n",
    "ptop\n",
    "\n",
    "pdiagonal <- bank %>%\n",
    "mutate (status = factor(bank$Status,levels = c(0,1),labels=c(\"Genuine\",\"Counterfeit\"))) %>%\n",
    "ggplot(data=.,aes(x=status,y=Diagonal)) + geom_boxplot()\n",
    "pdiagonal"
   ]
  },
  {
   "cell_type": "code",
   "execution_count": null,
   "metadata": {
    "deletable": false,
    "nbgrader": {
     "checksum": "c10000c5995f2eca7e56564e521785d2",
     "grade": false,
     "grade_id": "cell-dfe323d9d50025e1",
     "locked": false,
     "schema_version": 1,
     "solution": true
    },
    "scrolled": false
   },
   "outputs": [],
   "source": [
    "## Dataset02 - Task 2 goes here\n",
    "# your code here\n",
    "## I think Top and Diagonal dimensions likely to give the clearest differentiation between forged and genuine notes\n",
    "p_var1 <- bank %>%\n",
    "mutate (status = factor(bank$Status,levels = c(0,1),labels=c(\"Genuine\",\"Counterfeit\"))) %>%\n",
    "ggplot(data=.,aes(x=status, y=Top)) + geom_boxplot()\n",
    "p_var1\n",
    "\n",
    "p_var2 <- bank %>%\n",
    "mutate (status = factor(bank$Status,levels = c(0,1),labels=c(\"Genuine\",\"Counterfeit\"))) %>%\n",
    "ggplot(data=.,aes(x=status,y=Diagonal)) + geom_boxplot()\n",
    "p_var2"
   ]
  },
  {
   "cell_type": "code",
   "execution_count": null,
   "metadata": {
    "deletable": false,
    "editable": false,
    "nbgrader": {
     "checksum": "30f1104f5e7187f013dc2d13f9ff68a9",
     "grade": true,
     "grade_id": "cell-61a2dfa96f869c65",
     "locked": true,
     "points": 1,
     "schema_version": 1,
     "solution": false
    }
   },
   "outputs": [],
   "source": [
    "# This is the first public test to check that you assigned the correct variable, the rest is hidden\n",
    "test_that(\"Boxplot\", {\n",
    "      expect_is(p_var1,\"ggplot\")\n",
    "      expect_is(p_var2,\"ggplot\")\n",
    "\n",
    "})\n"
   ]
  },
  {
   "cell_type": "code",
   "execution_count": null,
   "metadata": {
    "deletable": false,
    "nbgrader": {
     "checksum": "ee297027f426d3746c2cf89c55349f26",
     "grade": false,
     "grade_id": "cell-742d59f745c333ef",
     "locked": false,
     "schema_version": 1,
     "solution": true
    },
    "scrolled": false
   },
   "outputs": [],
   "source": [
    "## Dataset02 - Task 3 code here\n",
    "# your code here\n",
    "p_3 <- bank %>%\n",
    "mutate (status = factor(bank$Status,levels = c(0,1),labels=c(\"Genuine\",\"Counterfeit\"))) %>%\n",
    "ggplot(data=.,\n",
    "           aes(x=Top,\n",
    "              y=Diagonal,\n",
    "              colour=status)) + \n",
    "geom_point() + geom_segment(aes(x=8,y=139.5,xend=12.5,yend=141))\n",
    "p_3"
   ]
  },
  {
   "cell_type": "code",
   "execution_count": null,
   "metadata": {
    "deletable": false,
    "editable": false,
    "nbgrader": {
     "checksum": "c7a4a6e5b8cced714e716cba0f8f52e0",
     "grade": true,
     "grade_id": "cell-d939d0a0a805905f",
     "locked": true,
     "points": 0.7,
     "schema_version": 1,
     "solution": false
    }
   },
   "outputs": [],
   "source": []
  },
  {
   "cell_type": "code",
   "execution_count": null,
   "metadata": {
    "deletable": false,
    "editable": false,
    "nbgrader": {
     "checksum": "20e8e91940d873e491bfdb21d1366d46",
     "grade": true,
     "grade_id": "cell-e9712e121412cec5",
     "locked": true,
     "points": 0.5,
     "schema_version": 1,
     "solution": false
    }
   },
   "outputs": [],
   "source": []
  },
  {
   "cell_type": "code",
   "execution_count": null,
   "metadata": {
    "deletable": false,
    "nbgrader": {
     "checksum": "ce0f4c6c127560a62035f3a69ab97625",
     "grade": false,
     "grade_id": "cell-3aca30822cd8af20",
     "locked": false,
     "schema_version": 1,
     "solution": true
    },
    "scrolled": true
   },
   "outputs": [],
   "source": [
    "## Dataset02 - Task 4 code here\n",
    "# your code here\n",
    "#options(repr.plot.width=6, repr.plot.height=4)\n",
    "bank %>%\n",
    "mutate (status = factor(bank$Status,levels = c(0,1),labels=c(\"Genuine\",\"Counterfeit\"))) -> bankupd\n",
    "\n",
    "bankupd\n",
    "mat <- ggscatmat(data=bankupd)+ ggtitle(\"Scatterplot Matrix representing the forgeries and the genuine notes\")\n",
    "mat"
   ]
  },
  {
   "cell_type": "code",
   "execution_count": null,
   "metadata": {
    "deletable": false,
    "editable": false,
    "nbgrader": {
     "checksum": "65f72ffa42ee7134f25b8a5b46ca8420",
     "grade": true,
     "grade_id": "cell-46354f814c99076d",
     "locked": true,
     "points": 1,
     "schema_version": 1,
     "solution": false
    },
    "scrolled": false
   },
   "outputs": [],
   "source": [
    "# This is the first public test to check that you assigned the correct variable, the rest is hidden\n",
    "test_that(\"Plot\", {\n",
    "      expect_is(mat,\"ggplot\")\n",
    "\n",
    "})\n"
   ]
  },
  {
   "cell_type": "code",
   "execution_count": null,
   "metadata": {
    "deletable": false,
    "editable": false,
    "nbgrader": {
     "checksum": "b963cf67bc5b5e86e18bb21c1a1b7562",
     "grade": true,
     "grade_id": "cell-10d68672a717fe3b",
     "locked": true,
     "points": 0.1,
     "schema_version": 1,
     "solution": false
    }
   },
   "outputs": [],
   "source": []
  },
  {
   "cell_type": "code",
   "execution_count": null,
   "metadata": {
    "deletable": false,
    "nbgrader": {
     "checksum": "b4beaffef60bb1aac7888b38b5ec73c6",
     "grade": false,
     "grade_id": "cell-272848103ff13e88",
     "locked": false,
     "schema_version": 1,
     "solution": true
    },
    "scrolled": false
   },
   "outputs": [],
   "source": [
    "## Dataset02 - Task 5 code here\n",
    "# your code here\n",
    "data(bank)\n",
    "mat_all <- ggscatmat(data=bank,columns=2:7)+ggtitle(\"Scatterplot Matrix for the combined sample of Bank Notes\")\n",
    "mat_all"
   ]
  },
  {
   "cell_type": "code",
   "execution_count": null,
   "metadata": {
    "deletable": false,
    "editable": false,
    "nbgrader": {
     "checksum": "510d540845d301700cf5f8bc7e37df46",
     "grade": true,
     "grade_id": "cell-ad26383f1913bc34",
     "locked": true,
     "points": 0.5,
     "schema_version": 1,
     "solution": false
    }
   },
   "outputs": [],
   "source": [
    "# This is the first public test to check that you assigned the correct variable, the rest is hidden\n",
    "test_that(\"Plot\", {\n",
    "      expect_is(mat_all,\"ggplot\")\n",
    "\n",
    "})\n"
   ]
  },
  {
   "cell_type": "code",
   "execution_count": null,
   "metadata": {
    "deletable": false,
    "editable": false,
    "nbgrader": {
     "checksum": "c5e4921621b60413d92a6fde7f678888",
     "grade": true,
     "grade_id": "cell-712c5730698ba210",
     "locked": true,
     "points": 0.1,
     "schema_version": 1,
     "solution": false
    }
   },
   "outputs": [],
   "source": []
  },
  {
   "cell_type": "code",
   "execution_count": null,
   "metadata": {
    "scrolled": true
   },
   "outputs": [],
   "source": [
    "install.packages('ggcorrplot',lib='.', verbose=TRUE)"
   ]
  },
  {
   "cell_type": "code",
   "execution_count": null,
   "metadata": {},
   "outputs": [],
   "source": [
    "library(ggcorrplot,lib.loc='.')"
   ]
  },
  {
   "cell_type": "code",
   "execution_count": null,
   "metadata": {
    "deletable": false,
    "nbgrader": {
     "checksum": "ef695c054357e7b03457349b21cfc96b",
     "grade": false,
     "grade_id": "cell-5a5fd86c81b98d10",
     "locked": false,
     "schema_version": 1,
     "solution": true
    },
    "scrolled": false
   },
   "outputs": [],
   "source": [
    "## Dataset02 - Task 6 code here\n",
    "corr <- cor(bank[,2:7])\n",
    "corr\n",
    "p_cor <- ggcorrplot(corr,hc.order = TRUE,outline.col = \"white\")+ggtitle(\"Correlation Plot for Bank Notes\")\n",
    "p_cor"
   ]
  },
  {
   "cell_type": "code",
   "execution_count": null,
   "metadata": {
    "deletable": false,
    "editable": false,
    "nbgrader": {
     "checksum": "66e22405e107e7f7ad7ac45c79455835",
     "grade": true,
     "grade_id": "cell-d7bdeb2a4dff46aa",
     "locked": true,
     "points": 2,
     "schema_version": 1,
     "solution": false
    }
   },
   "outputs": [],
   "source": [
    "# This is the first public test to check that you assigned the correct variable, the rest is hidden\n",
    "test_that(\"Scater Plot\", {\n",
    "      expect_is(p_cor,\"ggplot\")\n",
    "})\n"
   ]
  },
  {
   "cell_type": "code",
   "execution_count": null,
   "metadata": {
    "deletable": false,
    "editable": false,
    "nbgrader": {
     "checksum": "ba26a9563891444cb0e0201120a24544",
     "grade": true,
     "grade_id": "cell-01caec629e260cbc",
     "locked": true,
     "points": 0.1,
     "schema_version": 1,
     "solution": false
    }
   },
   "outputs": [],
   "source": []
  },
  {
   "cell_type": "code",
   "execution_count": null,
   "metadata": {},
   "outputs": [],
   "source": []
  },
  {
   "cell_type": "code",
   "execution_count": null,
   "metadata": {},
   "outputs": [],
   "source": []
  }
 ],
 "metadata": {
  "kernelspec": {
   "display_name": "R",
   "language": "R",
   "name": "ir"
  },
  "language_info": {
   "codemirror_mode": "r",
   "file_extension": ".r",
   "mimetype": "text/x-r-source",
   "name": "R",
   "pygments_lexer": "r",
   "version": "3.4.3"
  }
 },
 "nbformat": 4,
 "nbformat_minor": 2
}
